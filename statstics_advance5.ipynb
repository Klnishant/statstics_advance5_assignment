{
 "cells": [
  {
   "cell_type": "markdown",
   "id": "e1a30e0f-51c9-4ad7-a828-f1c1f558d65f",
   "metadata": {},
   "source": [
    "Q1. Calculate the 95% confidence interval for a sample of data with a mean of 50 and a standard deviation\n",
    "of 5 using Python. Interpret the results."
   ]
  },
  {
   "cell_type": "code",
   "execution_count": 1,
   "id": "4543b6b0-cf90-4d58-9641-da2b9d53bc17",
   "metadata": {},
   "outputs": [
    {
     "name": "stdout",
     "output_type": "stream",
     "text": [
      "Confidence Intervall: (49.00789152424566, 50.99210847575434)\n"
     ]
    }
   ],
   "source": [
    "import scipy.stats as stats\n",
    "sample_mean=50\n",
    "sample_std=5\n",
    "sample_confidenceIntervall=0.95\n",
    "alpha=1-0.95\n",
    "sample_size=100\n",
    "\n",
    "standard_error=sample_std/(sample_size**0.5)\n",
    "\n",
    "marginal_error = stats.t.ppf(1-(alpha/2),sample_size-1)*standard_error\n",
    "\n",
    "lower_bound = sample_mean-marginal_error\n",
    "upper_bound = sample_mean+marginal_error\n",
    "\n",
    "print(\"Confidence Intervall:\",(lower_bound,upper_bound))"
   ]
  },
  {
   "cell_type": "markdown",
   "id": "d1bb625e-44bc-4073-8a60-44b7708d2e28",
   "metadata": {},
   "source": [
    "Q2. Conduct a chi-square goodness of fit test to determine if the distribution of colors of M&Ms in a bag\n",
    "matches the expected distribution of 20% blue, 20% orange, 20% green, 10% yellow, 10% red, and 20%\n",
    "brown. Use Python to perform the test with a significance level of 0.05."
   ]
  },
  {
   "cell_type": "code",
   "execution_count": 2,
   "id": "c49ce543-b802-4d29-b9ad-8aee6674f431",
   "metadata": {},
   "outputs": [
    {
     "data": {
      "text/plain": [
       "(100, 100)"
      ]
     },
     "execution_count": 2,
     "metadata": {},
     "output_type": "execute_result"
    }
   ],
   "source": [
    "import scipy.stats as stasts\n",
    "observed = [18, 20, 22, 10, 12, 18]\n",
    "expected = [20,20,20,10,10,20]\n",
    "sum(observed),sum(expected)"
   ]
  },
  {
   "cell_type": "code",
   "execution_count": 3,
   "id": "fd0aa9b3-6b7a-4ea2-a6f7-b87adbc39d6a",
   "metadata": {},
   "outputs": [],
   "source": [
    "# chi square goodness of fit test\n",
    "chi_square_stats,pvalue=stasts.chisquare(observed,expected)"
   ]
  },
  {
   "cell_type": "code",
   "execution_count": 4,
   "id": "117b2fca-5abf-47ab-a03c-6708969650dc",
   "metadata": {},
   "outputs": [
    {
     "data": {
      "text/plain": [
       "(1.0, 0.9625657732472964)"
      ]
     },
     "execution_count": 4,
     "metadata": {},
     "output_type": "execute_result"
    }
   ],
   "source": [
    "chi_square_stats,pvalue"
   ]
  },
  {
   "cell_type": "code",
   "execution_count": 6,
   "id": "f8c33ea5-3a37-4fa1-b5b7-63829c32564a",
   "metadata": {},
   "outputs": [],
   "source": [
    "significance_value=0.05\n",
    "dof=len(expected)-1\n",
    "criticalvalue=stasts.chi2.ppf(significance_value,dof)"
   ]
  },
  {
   "cell_type": "code",
   "execution_count": 7,
   "id": "2e594a71-ad85-4ec6-aee2-d3216b1fab83",
   "metadata": {},
   "outputs": [
    {
     "data": {
      "text/plain": [
       "1.1454762260617692"
      ]
     },
     "execution_count": 7,
     "metadata": {},
     "output_type": "execute_result"
    }
   ],
   "source": [
    "criticalvalue"
   ]
  },
  {
   "cell_type": "code",
   "execution_count": 8,
   "id": "e68ba27d-04d2-4669-86e3-ee9dd38bf28d",
   "metadata": {},
   "outputs": [
    {
     "name": "stdout",
     "output_type": "stream",
     "text": [
      "Accept the null hypothesis\n"
     ]
    }
   ],
   "source": [
    "if chi_square_stats>criticalvalue:\n",
    "    print(\"Reject the null hyothesis\")\n",
    "else:\n",
    "    print(\"Accept the null hypothesis\")"
   ]
  },
  {
   "cell_type": "markdown",
   "id": "ce8e5920-627f-4b2b-9fcf-e0b87c305c66",
   "metadata": {},
   "source": [
    "Q3. Use Python to calculate the chi-square statistic and p-value for a contingency table with the following\n",
    "data:\n",
    "\n",
    "         Group A   Group B\n",
    "\n",
    "Outcome 1   20      15\n",
    "\n",
    "Outcome 2   10      25\n",
    "\n",
    "Outcome 3   15      20\n",
    "\n",
    "Interpret the results of the test."
   ]
  },
  {
   "cell_type": "code",
   "execution_count": 1,
   "id": "c598ab57-c88c-4b5b-b8ae-df8fe8564571",
   "metadata": {},
   "outputs": [
    {
     "name": "stdout",
     "output_type": "stream",
     "text": [
      "Chi-square statistic: 5.8333\n",
      "P-value: 0.0541\n",
      "There is no significant association between Group A and Group B.\n"
     ]
    }
   ],
   "source": [
    "from scipy.stats import chi2_contingency\n",
    "\n",
    "# Create the contingency table\n",
    "observed = [[20, 15],\n",
    "            [10, 25],\n",
    "            [15, 20]]\n",
    "\n",
    "# Perform the chi-square test\n",
    "chi2, p_value, _, _ = chi2_contingency(observed)\n",
    "\n",
    "# Print the test result\n",
    "print(f\"Chi-square statistic: {chi2:.4f}\")\n",
    "print(f\"P-value: {p_value:.4f}\")\n",
    "\n",
    "# Check the interpretation\n",
    "alpha = 0.05\n",
    "if p_value < alpha:\n",
    "    print(\"There is a significant association between Group A and Group B.\")\n",
    "else:\n",
    "    print(\"There is no significant association between Group A and Group B.\")\n"
   ]
  },
  {
   "cell_type": "markdown",
   "id": "5bb526e5-f21d-425c-97c0-03a822a4b5e7",
   "metadata": {},
   "source": [
    "Q4. A study of the prevalence of smoking in a population of 500 individuals found that 60 individuals\n",
    "smoked. Use Python to calculate the 95% confidence interval for the true proportion of individuals in the\n",
    "population who smoke."
   ]
  },
  {
   "cell_type": "code",
   "execution_count": 2,
   "id": "a120b16b-9a4f-4799-af42-2fa35c5cd4e1",
   "metadata": {},
   "outputs": [
    {
     "name": "stdout",
     "output_type": "stream",
     "text": [
      "95% Confidence Interval: [0.0944, 0.1514]\n"
     ]
    }
   ],
   "source": [
    "import statsmodels.stats.proportion as proportion\n",
    "\n",
    "# Define the sample size and number of individuals who smoke\n",
    "sample_size = 500\n",
    "smokers = 60\n",
    "\n",
    "# Calculate the proportion of smokers in the sample\n",
    "smoking_proportion = smokers / sample_size\n",
    "\n",
    "# Calculate the confidence interval using the Wilson score interval method\n",
    "confidence_interval = proportion.proportion_confint(smokers, sample_size, alpha=0.05, method='wilson')\n",
    "\n",
    "# Print the confidence interval\n",
    "lower_bound = confidence_interval[0]\n",
    "upper_bound = confidence_interval[1]\n",
    "print(f\"95% Confidence Interval: [{lower_bound:.4f}, {upper_bound:.4f}]\")\n"
   ]
  },
  {
   "cell_type": "markdown",
   "id": "03ec83f0-4b8d-4dc1-8b87-4d8ee9498c14",
   "metadata": {},
   "source": [
    "Q5. Calculate the 90% confidence interval for a sample of data with a mean of 75 and a standard deviation\n",
    "of 12 using Python. Interpret the results."
   ]
  },
  {
   "cell_type": "code",
   "execution_count": 4,
   "id": "ae218017-0eb3-4be9-98a0-35042c104eea",
   "metadata": {},
   "outputs": [
    {
     "data": {
      "text/plain": [
       "1.9924693871956674"
      ]
     },
     "execution_count": 4,
     "metadata": {},
     "output_type": "execute_result"
    }
   ],
   "source": [
    "import scipy.stats as stats\n",
    "sample_mean=75\n",
    "sample_std=12\n",
    "sample_ci=0.9\n",
    "alpha=1-sample_ci\n",
    "sample_size=100\n",
    "\n",
    "standard_error = sample_std/(sample_size**0.5)\n",
    "marginal_error = stats.t.ppf(1-(alpha/2),sample_size-1)*standard_error\n",
    "marginal_error"
   ]
  },
  {
   "cell_type": "code",
   "execution_count": 5,
   "id": "26e5d504-9670-4823-b681-6f61091e3eee",
   "metadata": {},
   "outputs": [
    {
     "name": "stdout",
     "output_type": "stream",
     "text": [
      "Confidence Intervall: (73.00753061280433, 76.99246938719567)\n"
     ]
    }
   ],
   "source": [
    "lower_bound=sample_mean-marginal_error\n",
    "upper_bound = sample_mean+marginal_error\n",
    "print(\"Confidence Intervall:\",(lower_bound,upper_bound))"
   ]
  },
  {
   "cell_type": "markdown",
   "id": "c2423c21-c507-4093-87bb-696f910414c5",
   "metadata": {},
   "source": [
    "Q6. Use Python to plot the chi-square distribution with 10 degrees of freedom. Label the axes and shade the\n",
    "area corresponding to a chi-square statistic of 15."
   ]
  },
  {
   "cell_type": "code",
   "execution_count": 6,
   "id": "223b830a-4bec-4c29-87ad-088ca9999b3f",
   "metadata": {},
   "outputs": [
    {
     "data": {
      "image/png": "[encoded data removed]",
      "text/plain": [
       "<Figure size 640x480 with 1 Axes>"
      ]
     },
     "metadata": {},
     "output_type": "display_data"
    }
   ],
   "source": [
    "import numpy as np\n",
    "import matplotlib.pyplot as plt\n",
    "import scipy.stats as stats\n",
    "\n",
    "# Set the degrees of freedom\n",
    "df = 10\n",
    "\n",
    "# Generate x values for the chi-square distribution\n",
    "x = np.linspace(0, 30, 500)\n",
    "\n",
    "# Calculate the chi-square probability density function (PDF)\n",
    "pdf = stats.chi2.pdf(x, df)\n",
    "\n",
    "# Create the plot\n",
    "plt.plot(x, pdf, 'b-', label=f\"Chi-square with {df} degrees of freedom\")\n",
    "plt.fill_between(x, pdf, where=(x >= 15), color='gray', alpha=0.5)\n",
    "\n",
    "# Shade the area corresponding to a chi-square statistic of 15\n",
    "plt.text(17, 0.025, 'Chi-square statistic of 15', ha='center', va='center', color='black', bbox=dict(facecolor='white', edgecolor='black'))\n",
    "\n",
    "# Set the plot labels and title\n",
    "plt.xlabel('Chi-square Statistic')\n",
    "plt.ylabel('Probability Density')\n",
    "plt.title('Chi-square Distribution')\n",
    "\n",
    "# Display the legend and grid\n",
    "plt.legend()\n",
    "plt.grid(True)\n",
    "\n",
    "# Show the plot\n",
    "plt.show()\n"
   ]
  },
  {
   "cell_type": "markdown",
   "id": "e94288e9-94c3-4330-9f20-0dc76fcc5968",
   "metadata": {},
   "source": [
    "Q7. A random sample of 1000 people was asked if they preferred Coke or Pepsi. Of the sample, 520\n",
    "preferred Coke. Calculate a 99% confidence interval for the true proportion of people in the population who\n",
    "prefer Coke."
   ]
  },
  {
   "cell_type": "code",
   "execution_count": 7,
   "id": "ba8f57aa-f21c-45f5-9d97-eef1ae1158da",
   "metadata": {},
   "outputs": [
    {
     "name": "stdout",
     "output_type": "stream",
     "text": [
      "99% Confidence Interval: [0.4793, 0.5604]\n"
     ]
    }
   ],
   "source": [
    "import statsmodels.stats.proportion as proportion\n",
    "\n",
    "# Define the sample size and number of people who prefer Coke\n",
    "sample_size = 1000\n",
    "coke_preferred = 520\n",
    "\n",
    "# Calculate the proportion of people who prefer Coke in the sample\n",
    "coke_proportion = coke_preferred / sample_size\n",
    "\n",
    "# Calculate the confidence interval using the Wilson score interval method\n",
    "confidence_interval = proportion.proportion_confint(coke_preferred, sample_size, alpha=0.01, method='wilson')\n",
    "\n",
    "# Print the confidence interval\n",
    "lower_bound = confidence_interval[0]\n",
    "upper_bound = confidence_interval[1]\n",
    "print(f\"99% Confidence Interval: [{lower_bound:.4f}, {upper_bound:.4f}]\")\n"
   ]
  },
  {
   "cell_type": "markdown",
   "id": "2ce89371-7393-4e6b-9e76-454e70f088e0",
   "metadata": {},
   "source": [
    "Q8. A researcher hypothesizes that a coin is biased towards tails. They flip the coin 100 times and observe\n",
    "45 tails. Conduct a chi-square goodness of fit test to determine if the observed frequencies match the\n",
    "expected frequencies of a fair coin. Use a significance level of 0.05."
   ]
  },
  {
   "cell_type": "code",
   "execution_count": 8,
   "id": "f5a6b78b-32a6-4075-a47e-823ec4c1aaaa",
   "metadata": {},
   "outputs": [
    {
     "name": "stdout",
     "output_type": "stream",
     "text": [
      "Chi-square statistic: 1.0000\n",
      "P-value: 0.3173\n",
      "The observed frequencies do not significantly differ from the expected frequencies.\n"
     ]
    }
   ],
   "source": [
    "from scipy.stats import chisquare\n",
    "\n",
    "# Define the observed frequencies and expected frequencies\n",
    "observed = [45, 55]  # observed frequencies of tails and heads\n",
    "expected = [50, 50]  # expected frequencies of tails and heads for a fair coin\n",
    "\n",
    "# Perform the chi-square goodness of fit test\n",
    "chi2, p_value = chisquare(observed, expected)\n",
    "\n",
    "# Print the test result\n",
    "print(f\"Chi-square statistic: {chi2:.4f}\")\n",
    "print(f\"P-value: {p_value:.4f}\")\n",
    "\n",
    "# Check if the observed frequencies significantly differ from the expected frequencies\n",
    "alpha = 0.05\n",
    "if p_value < alpha:\n",
    "    print(\"The observed frequencies significantly differ from the expected frequencies.\")\n",
    "else:\n",
    "    print(\"The observed frequencies do not significantly differ from the expected frequencies.\")\n"
   ]
  },
  {
   "cell_type": "markdown",
   "id": "80b58736-4338-4c0e-b59f-1c5b13457d26",
   "metadata": {},
   "source": [
    "Q9. A study was conducted to determine if there is an association between smoking status (smoker or\n",
    "non-smoker) and lung cancer diagnosis (yes or no). The results are shown in the contingency table below.\n",
    "Conduct a chi-square test for independence to determine if there is a significant association between\n",
    "smoking status and lung cancer diagnosis.\n",
    "\n",
    "    Lung Cancer: Yes Lung Cancer: No\n",
    "\n",
    "Smoker 60 140\n",
    "\n",
    "Non-smoker 30 170\n",
    "\n",
    "Use a significance level of 0.05."
   ]
  },
  {
   "cell_type": "code",
   "execution_count": 9,
   "id": "01985a61-7c31-4284-9136-67065780f3e2",
   "metadata": {},
   "outputs": [
    {
     "name": "stdout",
     "output_type": "stream",
     "text": [
      "Chi-square statistic: 12.0573\n",
      "P-value: 0.0005\n",
      "There is a significant association between smoking status and lung cancer diagnosis.\n"
     ]
    }
   ],
   "source": [
    "import numpy as np\n",
    "from scipy.stats import chi2_contingency\n",
    "\n",
    "# Create the contingency table\n",
    "observed = np.array([[60, 140], [30, 170]])\n",
    "\n",
    "# Perform the chi-square test for independence\n",
    "chi2, p_value, _, _ = chi2_contingency(observed)\n",
    "\n",
    "# Print the test result\n",
    "print(f\"Chi-square statistic: {chi2:.4f}\")\n",
    "print(f\"P-value: {p_value:.4f}\")\n",
    "\n",
    "# Check if there is a significant association between smoking status and lung cancer diagnosis\n",
    "alpha = 0.05\n",
    "if p_value < alpha:\n",
    "    print(\"There is a significant association between smoking status and lung cancer diagnosis.\")\n",
    "else:\n",
    "    print(\"There is no significant association between smoking status and lung cancer diagnosis.\")\n"
   ]
  },
  {
   "cell_type": "markdown",
   "id": "aeda9963-11fa-471c-a6a9-0cd421de0d1a",
   "metadata": {},
   "source": [
    "Q10. A study was conducted to determine if the proportion of people who prefer milk chocolate, dark\n",
    "chocolate, or white chocolate is different in the U.S. versus the U.K. A random sample of 500 people from\n",
    "the U.S. and a random sample of 500 people from the U.K. were surveyed. The results are shown in the\n",
    "contingency table below. Conduct a chi-square test for independence to determine if there is a significant\n",
    "association between chocolate preference and country of origin.\n",
    "\n",
    "            Milk Chocolate Dark Chocolate White Chocolate\n",
    "\n",
    "U.S. (n=500)       200          150           150\n",
    "\n",
    "U.K. (n=500)       225          175           100\n",
    "\n",
    "Use a significance level of 0.01."
   ]
  },
  {
   "cell_type": "code",
   "execution_count": 10,
   "id": "fb6bf0ce-1ea6-4fcd-83b0-45a5616a3687",
   "metadata": {},
   "outputs": [
    {
     "name": "stdout",
     "output_type": "stream",
     "text": [
      "Chi-square statistic: 13.3937\n",
      "P-value: 0.0012\n",
      "There is a significant association between chocolate preference and country of origin.\n"
     ]
    }
   ],
   "source": [
    "import numpy as np\n",
    "from scipy.stats import chi2_contingency\n",
    "\n",
    "# Create the contingency table\n",
    "observed = np.array([[200, 150, 150], [225, 175, 100]])\n",
    "\n",
    "# Perform the chi-square test for independence\n",
    "chi2, p_value, _, _ = chi2_contingency(observed)\n",
    "\n",
    "# Print the test result\n",
    "print(f\"Chi-square statistic: {chi2:.4f}\")\n",
    "print(f\"P-value: {p_value:.4f}\")\n",
    "\n",
    "# Check if there is a significant association between chocolate preference and country of origin\n",
    "alpha = 0.01\n",
    "if p_value < alpha:\n",
    "    print(\"There is a significant association between chocolate preference and country of origin.\")\n",
    "else:\n",
    "    print(\"There is no significant association between chocolate preference and country of origin.\")\n"
   ]
  },
  {
   "cell_type": "markdown",
   "id": "cd6bf40f-a35a-47a0-922c-c6ea2dd3fb19",
   "metadata": {},
   "source": [
    "Q11. A random sample of 30 people was selected from a population with an unknown mean and standard\n",
    "deviation. The sample mean was found to be 72 and the sample standard deviation was found to be 10.\n",
    "Conduct a hypothesis test to determine if the population mean is significantly different from 70. Use a\n",
    "significance level of 0.05."
   ]
  },
  {
   "cell_type": "code",
   "execution_count": 11,
   "id": "f7d19152-5b2d-478f-9c6a-7aef7682c66f",
   "metadata": {},
   "outputs": [
    {
     "name": "stdout",
     "output_type": "stream",
     "text": [
      "T-statistic: inf\n",
      "P-value: 0.0000\n",
      "The population mean is significantly different from 70.\n"
     ]
    },
    {
     "name": "stderr",
     "output_type": "stream",
     "text": [
      "/tmp/ipykernel_84/162653225.py:10: RuntimeWarning: Precision loss occurred in moment calculation due to catastrophic cancellation. This occurs when the data are nearly identical. Results may be unreliable.\n",
      "  t_statistic, p_value = stats.ttest_1samp([sample_mean]*sample_size, population_mean)\n"
     ]
    }
   ],
   "source": [
    "import scipy.stats as stats\n",
    "\n",
    "# Define the sample statistics\n",
    "sample_mean = 72\n",
    "sample_std = 10\n",
    "sample_size = 30\n",
    "population_mean = 70\n",
    "\n",
    "# Calculate the t-statistic and p-value\n",
    "t_statistic, p_value = stats.ttest_1samp([sample_mean]*sample_size, population_mean)\n",
    "\n",
    "# Print the test result\n",
    "print(f\"T-statistic: {t_statistic:.4f}\")\n",
    "print(f\"P-value: {p_value:.4f}\")\n",
    "\n",
    "# Check if the population mean is significantly different from 70\n",
    "alpha = 0.05\n",
    "if p_value < alpha:\n",
    "    print(\"The population mean is significantly different from 70.\")\n",
    "else:\n",
    "    print(\"The population mean is not significantly different from 70.\")\n"
   ]
  },
  {
   "cell_type": "code",
   "execution_count": null,
   "id": "07df0c2d-6627-46ef-8153-8ac5ca61ab34",
   "metadata": {},
   "outputs": [],
   "source": []
  }
 ],
 "metadata": {
  "kernelspec": {
   "display_name": "Python 3 (ipykernel)",
   "language": "python",
   "name": "python3"
  },
  "language_info": {
   "codemirror_mode": {
    "name": "ipython",
    "version": 3
   },
   "file_extension": ".py",
   "mimetype": "text/x-python",
   "name": "python",
   "nbconvert_exporter": "python",
   "pygments_lexer": "ipython3",
   "version": "3.10.8"
  }
 },
 "nbformat": 4,
 "nbformat_minor": 5
}
